{
 "cells": [
  {
   "cell_type": "code",
   "execution_count": 1,
   "metadata": {},
   "outputs": [],
   "source": [
    "import pandas as pd\n",
    "import numpy as np\n",
    "import pickle"
   ]
  },
  {
   "cell_type": "code",
   "execution_count": 2,
   "metadata": {},
   "outputs": [],
   "source": [
    "# load pkl file\n",
    "with open('log_rt_backtest_8_16.pkl', 'rb') as f:\n",
    "    data = pickle.load(f)\n",
    "    \n",
    "    "
   ]
  },
  {
   "cell_type": "code",
   "execution_count": 3,
   "metadata": {},
   "outputs": [
    {
     "name": "stdout",
     "output_type": "stream",
     "text": [
      "-0.010221782308445743 0.011739427648793455\n",
      "-0.010235868913429752 0.011739344146238822\n",
      "-0.010241158719332849 0.011734414363894259\n",
      "-0.01025845014224405 0.011735377687636517\n",
      "-0.010291000520940839 0.011730140591007248\n",
      "nan nan\n",
      "nan nan\n",
      "nan nan\n",
      "nan nan\n",
      "nan nan\n",
      "-0.010281554781750408 0.011954443239164971\n"
     ]
    },
    {
     "name": "stderr",
     "output_type": "stream",
     "text": [
      "C:\\Users\\Michael\\AppData\\Local\\Temp\\ipykernel_26952\\2853783030.py:3: RuntimeWarning: Mean of empty slice.\n",
      "  print(values.mean(), values.std())\n",
      "c:\\Users\\Michael\\AppData\\Local\\Programs\\Python\\Python39\\lib\\site-packages\\numpy\\core\\_methods.py:189: RuntimeWarning: invalid value encountered in double_scalars\n",
      "  ret = ret.dtype.type(ret / rcount)\n",
      "c:\\Users\\Michael\\AppData\\Local\\Programs\\Python\\Python39\\lib\\site-packages\\numpy\\core\\_methods.py:264: RuntimeWarning: Degrees of freedom <= 0 for slice\n",
      "  ret = _var(a, axis=axis, dtype=dtype, out=out, ddof=ddof,\n",
      "c:\\Users\\Michael\\AppData\\Local\\Programs\\Python\\Python39\\lib\\site-packages\\numpy\\core\\_methods.py:222: RuntimeWarning: invalid value encountered in true_divide\n",
      "  arrmean = um.true_divide(arrmean, div, out=arrmean, casting='unsafe',\n",
      "c:\\Users\\Michael\\AppData\\Local\\Programs\\Python\\Python39\\lib\\site-packages\\numpy\\core\\_methods.py:256: RuntimeWarning: invalid value encountered in double_scalars\n",
      "  ret = ret.dtype.type(ret / rcount)\n"
     ]
    },
    {
     "name": "stdout",
     "output_type": "stream",
     "text": [
      "-0.01029725971049959 0.011949408616656804\n",
      "-0.010305273540500096 0.011944121794883722\n",
      "-0.010322341901850973 0.01193053162535571\n",
      "-0.010355956438119237 0.011932425868090187\n",
      "nan nan\n",
      "nan nan\n",
      "nan nan\n",
      "nan nan\n",
      "nan nan\n",
      "-0.010275311911803673 0.011853115663724125\n",
      "-0.010290375232711722 0.011844602492070403\n",
      "-0.010297486683716712 0.011837293297002588\n",
      "-0.010313604762925626 0.01182221318168539\n",
      "-0.01034609079198055 0.011821799156904069\n",
      "nan nan\n",
      "nan nan\n",
      "nan nan\n",
      "nan nan\n",
      "nan nan\n",
      "-0.01028469599472523 0.011827534462026478\n",
      "-0.01029893848245448 0.011815466463605104\n",
      "-0.010305898052740067 0.011805511306881811\n",
      "-0.010322072086217594 0.011792673738891467\n",
      "-0.010355941342420393 0.011791200087501461\n",
      "nan nan\n",
      "nan nan\n",
      "nan nan\n",
      "nan nan\n",
      "nan nan\n"
     ]
    }
   ],
   "source": [
    "for values in data.values():\n",
    "    values = np.array(values)\n",
    "    print(values.mean(), values.std())"
   ]
  },
  {
   "cell_type": "code",
   "execution_count": null,
   "metadata": {},
   "outputs": [],
   "source": []
  }
 ],
 "metadata": {
  "kernelspec": {
   "display_name": "Python 3",
   "language": "python",
   "name": "python3"
  },
  "language_info": {
   "codemirror_mode": {
    "name": "ipython",
    "version": 3
   },
   "file_extension": ".py",
   "mimetype": "text/x-python",
   "name": "python",
   "nbconvert_exporter": "python",
   "pygments_lexer": "ipython3",
   "version": "3.9.7"
  },
  "orig_nbformat": 4
 },
 "nbformat": 4,
 "nbformat_minor": 2
}
