{
 "cells": [
  {
   "cell_type": "code",
   "execution_count": null,
   "metadata": {},
   "outputs": [],
   "source": [
    "# 先找global factor吧\n",
    "# news, cpi rate(inflation), interest rate, unemployment rate, GDP, exchange rate, stock market, bond market, oil price, gold price, housing price, commodity price, etc.\n",
    "# 是否可以考虑板块投资"
   ]
  }
 ],
 "metadata": {
  "language_info": {
   "name": "python"
  },
  "orig_nbformat": 4
 },
 "nbformat": 4,
 "nbformat_minor": 2
}
