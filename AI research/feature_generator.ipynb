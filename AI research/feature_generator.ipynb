{
 "cells": [
  {
   "cell_type": "code",
   "execution_count": 7,
   "metadata": {},
   "outputs": [],
   "source": [
    "import multiprocessing\n",
    "import itertools\n",
    "import requests\n",
    "import pandas as pd\n",
    "from polygon import RESTClient\n",
    "import pandas as pd\n",
    "from polygonAPIkey import polygonAPIkey\n",
    "from pandas_datareader import data as pdr\n",
    "from tqdm.auto import tqdm\n",
    "import multiprocessing as mp\n",
    "import numpy as np\n",
    "import yfinance as yf\n",
    "import time\n",
    "import pickle\n",
    "import warnings\n",
    "warnings.filterwarnings('ignore')\n",
    "\n",
    "yf.pdr_override()\n",
    "\n",
    "\n",
    "\n"
   ]
  },
  {
   "cell_type": "code",
   "execution_count": 2,
   "metadata": {},
   "outputs": [],
   "source": [
    "# possible features:\n",
    "# earning season strat: assumption: trading firms have analyssi and made decision before earning call reflect in price\n",
    "\n",
    "#target: price changes after earning call: do a regression instead of classification, take into account of the degree of price change\n",
    "\n",
    "# explaintory variables:\n",
    "# 1. earning call之前 volumn combine with price move generate a weighted features\n",
    "# 2. maybe popularity or other sector's release correlated with volatility?\n",
    "\n",
    "#EDA: examine pca, correlation, linear separability, etc"
   ]
  },
  {
   "cell_type": "code",
   "execution_count": null,
   "metadata": {},
   "outputs": [],
   "source": []
  },
  {
   "cell_type": "code",
   "execution_count": null,
   "metadata": {},
   "outputs": [],
   "source": [
    "\n",
    "def feature_gen(tick):\n",
    "    "
   ]
  },
  {
   "cell_type": "code",
   "execution_count": 37,
   "metadata": {},
   "outputs": [
    {
     "name": "stdout",
     "output_type": "stream",
     "text": [
      "2023-05-05\n",
      "2023-02-03\n",
      "2022-10-28\n",
      "2022-07-29\n",
      "2022-04-29\n",
      "2022-01-28\n",
      "2021-10-29\n",
      "2021-07-28\n",
      "2021-04-29\n",
      "2021-01-28\n",
      "2020-10-30\n",
      "2020-07-31\n",
      "2020-05-01\n",
      "2020-01-29\n",
      "2019-10-31\n",
      "2019-07-31\n",
      "2019-05-01\n",
      "2019-01-30\n",
      "2018-11-05\n",
      "2018-08-01\n",
      "2018-05-02\n",
      "2018-02-02\n",
      "2017-11-03\n",
      "2017-08-02\n",
      "2017-05-03\n",
      "2017-02-01\n",
      "2016-10-26\n",
      "2016-07-27\n",
      "2016-04-27\n",
      "2016-01-27\n",
      "2015-10-28\n",
      "2015-07-22\n",
      "2015-04-28\n",
      "2015-01-28\n",
      "2014-10-27\n",
      "2014-07-23\n",
      "2014-04-24\n",
      "2014-01-28\n",
      "2013-10-30\n",
      "2013-07-24\n",
      "2013-04-24\n",
      "2013-01-24\n",
      "2012-10-31\n",
      "2012-07-25\n",
      "2012-04-25\n",
      "2012-01-25\n",
      "2011-10-26\n",
      "2011-07-20\n",
      "2011-04-21\n",
      "2011-01-19\n",
      "2010-10-27\n",
      "2010-07-21\n",
      "2010-04-21\n",
      "2010-01-25\n",
      "2009-10-27\n",
      "2009-07-22\n",
      "no date\n",
      "no date\n",
      "no date\n",
      "no date\n",
      "no date\n",
      "no date\n",
      "no date\n",
      "no date\n",
      "no date\n",
      "no date\n",
      "no date\n",
      "no date\n",
      "no date\n",
      "no date\n",
      "no date\n"
     ]
    }
   ],
   "source": [
    "#1 filings\n",
    "api_url = \"https://api.polygon.io/vX/reference/financials?ticker=AAPL&limit=100&sort=filing_date&apiKey=x55vleWy_ZA83DpRkMHG2yfKCvtX2ekp\"\n",
    "response = requests.get(api_url)\n",
    "for res in response.json()['results']:\n",
    "    try:\n",
    "        print(res['filing_date'])\n",
    "    except:\n",
    "        print('no date')\n"
   ]
  },
  {
   "cell_type": "code",
   "execution_count": null,
   "metadata": {},
   "outputs": [],
   "source": []
  }
 ],
 "metadata": {
  "kernelspec": {
   "display_name": "Python 3",
   "language": "python",
   "name": "python3"
  },
  "language_info": {
   "codemirror_mode": {
    "name": "ipython",
    "version": 3
   },
   "file_extension": ".py",
   "mimetype": "text/x-python",
   "name": "python",
   "nbconvert_exporter": "python",
   "pygments_lexer": "ipython3",
   "version": "3.9.7"
  },
  "orig_nbformat": 4
 },
 "nbformat": 4,
 "nbformat_minor": 2
}
