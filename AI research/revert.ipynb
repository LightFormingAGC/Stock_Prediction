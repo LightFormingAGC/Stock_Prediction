{
 "cells": [
  {
   "cell_type": "code",
   "execution_count": null,
   "metadata": {},
   "outputs": [],
   "source": [
    "# 当 huge increase/decrease 时，if volume is huge, means争议很大, then 设置一个止损 止盈， like -25% vs +75% for a huge drop， compare probability, idealily 50% vs 50%"
   ]
  },
  {
   "cell_type": "code",
   "execution_count": 1,
   "metadata": {},
   "outputs": [],
   "source": [
    "import multiprocessing\n",
    "import itertools\n",
    "import requests\n",
    "import pandas as pd\n",
    "from polygon import RESTClient\n",
    "import pandas as pd\n",
    "from polygonAPIkey import polygonAPIkey\n",
    "from pandas_datareader import data as pdr\n",
    "from tqdm.auto import tqdm\n",
    "import multiprocessing as mp\n",
    "import numpy as np\n",
    "import yfinance as yf\n",
    "import time\n",
    "import pickle\n",
    "import warnings\n",
    "warnings.filterwarnings('ignore')\n",
    "\n",
    "yf.pdr_override()"
   ]
  },
  {
   "cell_type": "code",
   "execution_count": 1,
   "metadata": {},
   "outputs": [],
   "source": [
    "# 用historical std来做trading rule, and also stop win and stop loss rule, this way you avoid overfitting the threshold value by selecting biasly\n",
    "# 但是hand seelct the std threshold is kind of unavoidable\n",
    "# volume也可以用historical std\n",
    "\n",
    "# gradually increase of volatilitys 开始介入\n",
    "# decrease of volatilitys 退出\n",
    "# 仓位时间可以ml吗\n",
    "\n",
    "    "
   ]
  },
  {
   "cell_type": "code",
   "execution_count": 2,
   "metadata": {},
   "outputs": [
    {
     "ename": "NameError",
     "evalue": "name 'pd' is not defined",
     "output_type": "error",
     "traceback": [
      "\u001b[1;31m---------------------------------------------------------------------------\u001b[0m",
      "\u001b[1;31mNameError\u001b[0m                                 Traceback (most recent call last)",
      "\u001b[1;32mc:\\Users\\Michael\\PycharmProjects\\Stock_Prediction\\AI research\\revert.ipynb Cell 4\u001b[0m in \u001b[0;36m<module>\u001b[1;34m\u001b[0m\n\u001b[0;32m     <a href='vscode-notebook-cell:/c%3A/Users/Michael/PycharmProjects/Stock_Prediction/AI%20research/revert.ipynb#W3sZmlsZQ%3D%3D?line=27'>28</a>\u001b[0m     \u001b[39mreturn\u001b[39;00m prices[[\u001b[39m'\u001b[39m\u001b[39mret_t_score\u001b[39m\u001b[39m'\u001b[39m, \u001b[39m'\u001b[39m\u001b[39mvol_t_score\u001b[39m\u001b[39m'\u001b[39m, \u001b[39m'\u001b[39m\u001b[39mpct_ret\u001b[39m\u001b[39m'\u001b[39m]]\n\u001b[0;32m     <a href='vscode-notebook-cell:/c%3A/Users/Michael/PycharmProjects/Stock_Prediction/AI%20research/revert.ipynb#W3sZmlsZQ%3D%3D?line=31'>32</a>\u001b[0m     \u001b[39m# prices = prices[5:]\u001b[39;00m\n\u001b[0;32m     <a href='vscode-notebook-cell:/c%3A/Users/Michael/PycharmProjects/Stock_Prediction/AI%20research/revert.ipynb#W3sZmlsZQ%3D%3D?line=32'>33</a>\u001b[0m     \u001b[39m# # Averaging high change and low change, so capture volatility\u001b[39;00m\n\u001b[0;32m     <a href='vscode-notebook-cell:/c%3A/Users/Michael/PycharmProjects/Stock_Prediction/AI%20research/revert.ipynb#W3sZmlsZQ%3D%3D?line=33'>34</a>\u001b[0m     \u001b[39m# prices['Avg_rel_change'] = (prices['Adj High_rel_change'] - prices['Adj Low_rel_change']) / 2\u001b[39;00m\n\u001b[1;32m   (...)\u001b[0m\n\u001b[0;32m     <a href='vscode-notebook-cell:/c%3A/Users/Michael/PycharmProjects/Stock_Prediction/AI%20research/revert.ipynb#W3sZmlsZQ%3D%3D?line=47'>48</a>\u001b[0m     \u001b[39m# data.dropna(inplace=True)\u001b[39;00m\n\u001b[0;32m     <a href='vscode-notebook-cell:/c%3A/Users/Michael/PycharmProjects/Stock_Prediction/AI%20research/revert.ipynb#W3sZmlsZQ%3D%3D?line=48'>49</a>\u001b[0m     \u001b[39m# return data\u001b[39;00m\n\u001b[1;32m---> <a href='vscode-notebook-cell:/c%3A/Users/Michael/PycharmProjects/Stock_Prediction/AI%20research/revert.ipynb#W3sZmlsZQ%3D%3D?line=52'>53</a>\u001b[0m df \u001b[39m=\u001b[39m pd\u001b[39m.\u001b[39mDataFrame(columns\u001b[39m=\u001b[39m[\u001b[39m'\u001b[39m\u001b[39mVolume_rel_change\u001b[39m\u001b[39m'\u001b[39m, \u001b[39m'\u001b[39m\u001b[39mAvg_rel_change\u001b[39m\u001b[39m'\u001b[39m, \u001b[39m'\u001b[39m\u001b[39mpct_ret\u001b[39m\u001b[39m'\u001b[39m])\n\u001b[0;32m     <a href='vscode-notebook-cell:/c%3A/Users/Michael/PycharmProjects/Stock_Prediction/AI%20research/revert.ipynb#W3sZmlsZQ%3D%3D?line=53'>54</a>\u001b[0m tickers \u001b[39m=\u001b[39m pd\u001b[39m.\u001b[39mread_csv(\u001b[39m'\u001b[39m\u001b[39mtickers.csv\u001b[39m\u001b[39m'\u001b[39m)\n\u001b[0;32m     <a href='vscode-notebook-cell:/c%3A/Users/Michael/PycharmProjects/Stock_Prediction/AI%20research/revert.ipynb#W3sZmlsZQ%3D%3D?line=54'>55</a>\u001b[0m \u001b[39mfor\u001b[39;00m tick \u001b[39min\u001b[39;00m tqdm(tickers[\u001b[39m'\u001b[39m\u001b[39mticker\u001b[39m\u001b[39m'\u001b[39m][:\u001b[39m3\u001b[39m]):\n",
      "\u001b[1;31mNameError\u001b[0m: name 'pd' is not defined"
     ]
    }
   ],
   "source": [
    "# def rel_change(df, lookback_period_days, column_name):\n",
    "#     df[column_name + '_rel_change'] = 0\n",
    "#     for i in range(lookback_period_days, len(df)):\n",
    "#         historical = df.iloc[i-lookback_period_days:i][column_name]\n",
    "#         today = df.iloc[i][column_name]\n",
    "#         df.loc[df.index[i], column_name + '_rel_change'] = (today - historical.mean()) / historical.mean()\n",
    "#     return df\n",
    "\n",
    "def feature_gen(tick):\n",
    "    prices = pdr.get_data_yahoo(tick)\n",
    "\n",
    "    prices['pct_ret'] = prices['Adj Close'].pct_change()\n",
    "    prices['avg_pct_ret'] = prices['pct_ret'].expanding().mean()\n",
    "    prices['std_pct_ret'] = prices['pct_ret'].expanding().std()\n",
    "    \n",
    "    prices['avg_vol'] = prices['Volume'].expanding().mean()\n",
    "    prices['std_vol'] = prices['Volume'].expanding().std()\n",
    "    \n",
    "    prices['ret_t_score'] = (prices['pct_ret'] - prices['avg_pct_ret']) / prices['std_pct_ret']\n",
    "    \n",
    "    prices['vol_t_score'] = (prices['Volume'] - prices['avg_vol']) / prices['std_vol']\n",
    "    \n",
    "    \n",
    "    # y\n",
    "    #找之后n天的high low, examine if related\n",
    "    # how to decide n though?\n",
    "    \n",
    "    return prices[['ret_t_score', 'vol_t_score', 'pct_ret']]\n",
    "    \n",
    "    \n",
    "\n",
    "    # prices = prices[5:]\n",
    "    # # Averaging high change and low change, so capture volatility\n",
    "    # prices['Avg_rel_change'] = (prices['Adj High_rel_change'] - prices['Adj Low_rel_change']) / 2\n",
    "    \n",
    "    # data = prices.loc[:, ['Adj Close', 'Volume', 'Volume_rel_change', 'Avg_rel_change']]\n",
    "    # data['transaction amount'] = data['Adj Close'] * data['Volume']\n",
    "    # # Y is next day adjusted close price relative change\n",
    "    # data['pct_ret'] = data['Adj Close'].pct_change()\n",
    "    # data['pct_ret'] = data['pct_ret'].shift(-1)\n",
    "    \n",
    "    # #filter out only tradable days\n",
    "    # data = data[(data['Volume'] > 4000000) & (data['Adj Close'] > 5) & (data['transaction amount'] > 40000000)]\n",
    "    \n",
    "\n",
    "    # data = data[['Volume_rel_change', 'Avg_rel_change', 'pct_ret']]\n",
    "\n",
    "    # data.dropna(inplace=True)\n",
    "    # return data\n",
    "\n",
    "\n",
    "\n",
    "df = pd.DataFrame(columns=['Volume_rel_change', 'Avg_rel_change', 'pct_ret'])\n",
    "tickers = pd.read_csv('tickers.csv')\n",
    "for tick in tqdm(tickers['ticker'][:3]):\n",
    "    res = feature_gen(tick)\n",
    "    print(res)\n",
    "\n",
    "# df.to_csv('dataset.csv')\n",
    "\n"
   ]
  },
  {
   "cell_type": "code",
   "execution_count": 3,
   "metadata": {},
   "outputs": [
    {
     "data": {
      "text/html": [
       "<div>\n",
       "<style scoped>\n",
       "    .dataframe tbody tr th:only-of-type {\n",
       "        vertical-align: middle;\n",
       "    }\n",
       "\n",
       "    .dataframe tbody tr th {\n",
       "        vertical-align: top;\n",
       "    }\n",
       "\n",
       "    .dataframe thead th {\n",
       "        text-align: right;\n",
       "    }\n",
       "</style>\n",
       "<table border=\"1\" class=\"dataframe\">\n",
       "  <thead>\n",
       "    <tr style=\"text-align: right;\">\n",
       "      <th></th>\n",
       "      <th>Volume_rel_change</th>\n",
       "      <th>Avg_rel_change</th>\n",
       "      <th>pct_ret</th>\n",
       "    </tr>\n",
       "  </thead>\n",
       "  <tbody>\n",
       "    <tr>\n",
       "      <th>0</th>\n",
       "      <td>5.074888</td>\n",
       "      <td>0.001665</td>\n",
       "      <td>0.001479</td>\n",
       "    </tr>\n",
       "    <tr>\n",
       "      <th>1</th>\n",
       "      <td>5.917972</td>\n",
       "      <td>0.000996</td>\n",
       "      <td>-0.005284</td>\n",
       "    </tr>\n",
       "    <tr>\n",
       "      <th>2</th>\n",
       "      <td>9.849002</td>\n",
       "      <td>-0.000312</td>\n",
       "      <td>0.002328</td>\n",
       "    </tr>\n",
       "    <tr>\n",
       "      <th>3</th>\n",
       "      <td>4.998489</td>\n",
       "      <td>0.000983</td>\n",
       "      <td>-0.007289</td>\n",
       "    </tr>\n",
       "    <tr>\n",
       "      <th>4</th>\n",
       "      <td>4.387466</td>\n",
       "      <td>0.002535</td>\n",
       "      <td>0.002824</td>\n",
       "    </tr>\n",
       "  </tbody>\n",
       "</table>\n",
       "</div>"
      ],
      "text/plain": [
       "   Volume_rel_change  Avg_rel_change   pct_ret\n",
       "0           5.074888        0.001665  0.001479\n",
       "1           5.917972        0.000996 -0.005284\n",
       "2           9.849002       -0.000312  0.002328\n",
       "3           4.998489        0.000983 -0.007289\n",
       "4           4.387466        0.002535  0.002824"
      ]
     },
     "execution_count": 3,
     "metadata": {},
     "output_type": "execute_result"
    }
   ],
   "source": [
    "prices = pd.read_csv('dataset.csv', index_col=0)\n",
    "prices.head()"
   ]
  },
  {
   "cell_type": "code",
   "execution_count": null,
   "metadata": {},
   "outputs": [],
   "source": []
  }
 ],
 "metadata": {
  "kernelspec": {
   "display_name": "Python 3",
   "language": "python",
   "name": "python3"
  },
  "language_info": {
   "codemirror_mode": {
    "name": "ipython",
    "version": 3
   },
   "file_extension": ".py",
   "mimetype": "text/x-python",
   "name": "python",
   "nbconvert_exporter": "python",
   "pygments_lexer": "ipython3",
   "version": "3.9.7"
  },
  "orig_nbformat": 4
 },
 "nbformat": 4,
 "nbformat_minor": 2
}
