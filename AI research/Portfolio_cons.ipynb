{
 "cells": [
  {
   "cell_type": "code",
   "execution_count": 2,
   "metadata": {},
   "outputs": [],
   "source": [
    "import multiprocessing\n",
    "import itertools\n",
    "import requests\n",
    "import pandas as pd\n",
    "from polygon import RESTClient\n",
    "import pandas as pd\n",
    "from polygonAPIkey import polygonAPIkey\n",
    "from pandas_datareader import data as pdr\n",
    "from tqdm.auto import tqdm\n",
    "import multiprocessing as mp\n",
    "import numpy as np\n",
    "import yfinance as yf\n",
    "import time\n",
    "import pickle\n",
    "import warnings\n",
    "warnings.filterwarnings('ignore')\n",
    "from datetime import timedelta\n",
    "from datetime import datetime\n",
    "import matplotlib.pyplot as plt\n",
    "\n",
    "yf.pdr_override()"
   ]
  },
  {
   "cell_type": "code",
   "execution_count": 3,
   "metadata": {},
   "outputs": [
    {
     "data": {
      "text/html": [
       "<div>\n",
       "<style scoped>\n",
       "    .dataframe tbody tr th:only-of-type {\n",
       "        vertical-align: middle;\n",
       "    }\n",
       "\n",
       "    .dataframe tbody tr th {\n",
       "        vertical-align: top;\n",
       "    }\n",
       "\n",
       "    .dataframe thead th {\n",
       "        text-align: right;\n",
       "    }\n",
       "</style>\n",
       "<table border=\"1\" class=\"dataframe\">\n",
       "  <thead>\n",
       "    <tr style=\"text-align: right;\">\n",
       "      <th></th>\n",
       "      <th>stocks ret</th>\n",
       "      <th>ret_c</th>\n",
       "    </tr>\n",
       "  </thead>\n",
       "  <tbody>\n",
       "    <tr>\n",
       "      <th>0</th>\n",
       "      <td>0.071817</td>\n",
       "      <td>-0.151173</td>\n",
       "    </tr>\n",
       "    <tr>\n",
       "      <th>1</th>\n",
       "      <td>0.107649</td>\n",
       "      <td>-1.187444</td>\n",
       "    </tr>\n",
       "    <tr>\n",
       "      <th>2</th>\n",
       "      <td>0.301887</td>\n",
       "      <td>2.667131</td>\n",
       "    </tr>\n",
       "    <tr>\n",
       "      <th>3</th>\n",
       "      <td>-0.197060</td>\n",
       "      <td>-4.744932</td>\n",
       "    </tr>\n",
       "    <tr>\n",
       "      <th>4</th>\n",
       "      <td>0.134493</td>\n",
       "      <td>0.981732</td>\n",
       "    </tr>\n",
       "  </tbody>\n",
       "</table>\n",
       "</div>"
      ],
      "text/plain": [
       "   stocks ret     ret_c\n",
       "0    0.071817 -0.151173\n",
       "1    0.107649 -1.187444\n",
       "2    0.301887  2.667131\n",
       "3   -0.197060 -4.744932\n",
       "4    0.134493  0.981732"
      ]
     },
     "execution_count": 3,
     "metadata": {},
     "output_type": "execute_result"
    }
   ],
   "source": [
    "dataset = pd.read_csv('dataset_buy_s_sell_call.csv')\n",
    "dataset['ret_c'] = dataset['ret_c'].apply(lambda x: x-0.02 if x > -0.98 else x)\n",
    "dataset['stocks ret'] = np.log(dataset['stocks ret']+1)\n",
    "dataset['ret_c'] = np.log(dataset['ret_c']+1)\n",
    "dataset.head()"
   ]
  },
  {
   "cell_type": "code",
   "execution_count": 4,
   "metadata": {},
   "outputs": [
    {
     "name": "stdout",
     "output_type": "stream",
     "text": [
      "0.1007207024784485\n"
     ]
    },
    {
     "data": {
      "text/plain": [
       "<matplotlib.collections.PathCollection at 0x24fa9309c10>"
      ]
     },
     "execution_count": 4,
     "metadata": {},
     "output_type": "execute_result"
    },
    {
     "data": {
      "image/png": "[encoded data removed]",
      "text/plain": [
       "<Figure size 432x288 with 1 Axes>"
      ]
     },
     "metadata": {
      "needs_background": "light"
     },
     "output_type": "display_data"
    }
   ],
   "source": [
    "# find covariance\n",
    "# plot scatter plot\n",
    "dataset['ret_c'] = dataset['ret_c'].astype(float)\n",
    "cov = dataset.cov()['stocks ret']['ret_c']\n",
    "print(cov)\n",
    "plt.scatter(dataset['stocks ret'], dataset['ret_c'])\n"
   ]
  },
  {
   "cell_type": "code",
   "execution_count": 5,
   "metadata": {},
   "outputs": [
    {
     "data": {
      "text/plain": [
       "count    1432.000000\n",
       "mean       -0.917780\n",
       "std         1.643979\n",
       "min        -8.732305\n",
       "25%        -1.629520\n",
       "50%        -0.466991\n",
       "75%         0.165608\n",
       "max         2.734924\n",
       "Name: ret_c, dtype: float64"
      ]
     },
     "execution_count": 5,
     "metadata": {},
     "output_type": "execute_result"
    }
   ],
   "source": [
    "dataset['ret_c'].describe()"
   ]
  },
  {
   "cell_type": "code",
   "execution_count": 6,
   "metadata": {},
   "outputs": [
    {
     "data": {
      "image/png": "[encoded data removed]",
      "text/plain": [
       "<Figure size 1080x360 with 2 Axes>"
      ]
     },
     "metadata": {
      "needs_background": "light"
     },
     "output_type": "display_data"
    }
   ],
   "source": [
    "# plot distribution of stocks ret and options ret\n",
    "\n",
    "fig, ax = plt.subplots(1, 2, figsize=(15, 5))\n",
    "ax[0].hist(dataset['stocks ret'], bins=100)\n",
    "ax[0].set_title('stocks ret')\n",
    "ax[1].hist(dataset['ret_c'], bins=100)\n",
    "ax[1].set_title('options ret')\n",
    "plt.show()\n"
   ]
  },
  {
   "cell_type": "code",
   "execution_count": 7,
   "metadata": {},
   "outputs": [
    {
     "name": "stdout",
     "output_type": "stream",
     "text": [
      "stock log return mean:  -0.004160599154865518\n",
      "stock log return var:  0.008844256509524515\n",
      "option log return mean:  -0.9177798814806845\n",
      "option log return var:  2.7026667430486944\n"
     ]
    }
   ],
   "source": [
    "stock_mean = dataset['stocks ret'].mean()\n",
    "stock_var = dataset['stocks ret'].std() ** 2\n",
    "option_mean = dataset['ret_c'].mean()\n",
    "option_var = dataset['ret_c'].std() ** 2\n",
    "print(\"stock log return mean: \", stock_mean)\n",
    "print(\"stock log return var: \", stock_var)\n",
    "print(\"option log return mean: \", option_mean)\n",
    "print(\"option log return var: \", option_var)"
   ]
  },
  {
   "cell_type": "code",
   "execution_count": 8,
   "metadata": {},
   "outputs": [
    {
     "name": "stdout",
     "output_type": "stream",
     "text": [
      "stock coef:  1.0366031468476142\n",
      "option coef:  -0.03660314684761423\n",
      "portfolio log return mean:  0.029280741598918362\n",
      "portfolio log return var:  0.005481289465887087\n"
     ]
    }
   ],
   "source": [
    "# valid assumption of stationary stock return, option return and covariance because this is how the market works, even if there is skewed,\n",
    "# it will revert back, so we can pass look ahead bias check\n",
    "\n",
    "coef_stock_min = (option_var - cov)/(stock_var + option_var - 2*cov)\n",
    "coef_option_min = 1 - coef_stock_min\n",
    "print(\"stock coef: \", coef_stock_min)\n",
    "print(\"option coef: \", coef_option_min)\n",
    "E_portfolio_min = coef_stock_min * stock_mean + coef_option_min * option_mean\n",
    "var_portfolio_min = coef_stock_min ** 2 * stock_var + coef_option_min ** 2 * option_var + 2 * coef_stock_min * coef_option_min * cov\n",
    "print(\"portfolio log return mean: \", E_portfolio_min)\n",
    "print(\"portfolio log return var: \", var_portfolio_min)"
   ]
  },
  {
   "cell_type": "code",
   "execution_count": 9,
   "metadata": {},
   "outputs": [
    {
     "name": "stdout",
     "output_type": "stream",
     "text": [
      "min var portfolio log return mean:  0.029643314285601206\n",
      "min var portfolio log return var:  0.005481684782821165\n"
     ]
    },
    {
     "data": {
      "image/png": "[encoded data removed]",
      "text/plain": [
       "<Figure size 720x360 with 1 Axes>"
      ]
     },
     "metadata": {
      "needs_background": "light"
     },
     "output_type": "display_data"
    }
   ],
   "source": [
    "# plot out the efficient frontier\n",
    "\n",
    "coefs = []\n",
    "for i in np.arange(-10, 10, 0.001):\n",
    "    coefs.append([i, 1-i])\n",
    "coefs = np.array(coefs)\n",
    "\n",
    "\n",
    "E_portfolio = coefs[:, 0] * stock_mean + coefs[:, 1] * option_mean\n",
    "var_portfolio = coefs[:, 0] ** 2 * stock_var + coefs[:, 1] ** 2 * option_var + 2 * coefs[:, 0] * coefs[:, 1] * cov\n",
    "\n",
    "min_var = np.argmin(var_portfolio)\n",
    "min_var_ret = E_portfolio[min_var]\n",
    "min_var = var_portfolio[min_var]\n",
    "\n",
    "print(\"min var portfolio log return mean: \", min_var_ret)\n",
    "print(\"min var portfolio log return var: \", min_var)\n",
    "\n",
    "plt.figure(figsize=(10, 5))\n",
    "plt.scatter(var_portfolio, E_portfolio)\n",
    "\n",
    "# label the min var portfolio\n",
    "plt.scatter(min_var, min_var_ret, c='r', s=100, label='min var portfolio')\n",
    "plt.legend()\n",
    "plt.xlabel('variance')\n",
    "plt.ylabel('expected return')\n",
    "plt.title('efficient frontier')\n",
    "plt.show()\n"
   ]
  },
  {
   "cell_type": "code",
   "execution_count": 10,
   "metadata": {},
   "outputs": [
    {
     "name": "stdout",
     "output_type": "stream",
     "text": [
      "sharpe ratio:  21.70959489623637\n"
     ]
    }
   ],
   "source": [
    "# assume there are 20 trades per year\n",
    "annualized_log_return_min = 20 * E_portfolio_min\n",
    "annualized_std_min = var_portfolio_min * 20 ** 0.5\n",
    "three_month_yield = np.log(1+0.0549)\n",
    "sharpe_ratio_min = (annualized_log_return_min - three_month_yield) / annualized_std_min\n",
    "print(\"sharpe ratio: \", sharpe_ratio_min)\n"
   ]
  },
  {
   "cell_type": "code",
   "execution_count": 11,
   "metadata": {},
   "outputs": [
    {
     "name": "stdout",
     "output_type": "stream",
     "text": [
      "option cost:  0.15292942044592692\n",
      "stock cost:  4.330969660608905\n"
     ]
    }
   ],
   "source": [
    "# you can use the estimate cost for practice since formula is euivalent\n",
    "\n",
    "#E[S-C/C] = E[S/C] - 1 = S/E[C] - 1\n",
    "\n",
    "\n",
    "x = Sale_price = 1.86\n",
    "option_cost = x * (1 + option_mean)\n",
    "stock_cost = (option_cost / -coef_option_min) * coef_stock_min\n",
    "print(\"option cost: \", option_cost)\n",
    "print(\"stock cost: \", stock_cost)"
   ]
  },
  {
   "cell_type": "code",
   "execution_count": null,
   "metadata": {},
   "outputs": [],
   "source": []
  }
 ],
 "metadata": {
  "kernelspec": {
   "display_name": "Python 3",
   "language": "python",
   "name": "python3"
  },
  "language_info": {
   "codemirror_mode": {
    "name": "ipython",
    "version": 3
   },
   "file_extension": ".py",
   "mimetype": "text/x-python",
   "name": "python",
   "nbconvert_exporter": "python",
   "pygments_lexer": "ipython3",
   "version": "3.9.7"
  },
  "orig_nbformat": 4
 },
 "nbformat": 4,
 "nbformat_minor": 2
}
